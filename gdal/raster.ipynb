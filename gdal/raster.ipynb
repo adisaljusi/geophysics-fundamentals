{
 "cells": [
  {
   "cell_type": "code",
   "execution_count": 5,
   "metadata": {},
   "outputs": [
    {
     "name": "stdout",
     "output_type": "stream",
     "text": [
      "Driver: SRTMHGT File Format/SRTMHGT\n",
      "Size is 3601 x (3601,) x 1\n",
      "Projection is GEOGCS[\"WGS 84\",DATUM[\"WGS_1984\",SPHEROID[\"WGS 84\",6378137,298.257223563,AUTHORITY[\"EPSG\",\"7030\"]],AUTHORITY[\"EPSG\",\"6326\"]],PRIMEM[\"Greenwich\",0,AUTHORITY[\"EPSG\",\"8901\"]],UNIT[\"degree\",0.0174532925199433,AUTHORITY[\"EPSG\",\"9122\"]],AXIS[\"Latitude\",NORTH],AXIS[\"Longitude\",EAST],AUTHORITY[\"EPSG\",\"4326\"]]\n"
     ]
    }
   ],
   "source": [
    "from osgeo import gdal\n",
    "\n",
    "filename = './gdal-tools/srtm/N28E086.hgt'\n",
    "dataset = gdal.Open(filename, gdal.GA_ReadOnly)\n",
    "\n",
    "print(f\"Driver: {dataset.GetDriver().LongName}/{dataset.GetDriver().ShortName}\")\n",
    "print(\n",
    "    f\"Size is {dataset.RasterXSize} x {dataset.RasterYSize,} x {dataset.RasterCount}\")\n",
    "print(f\"Projection is {dataset.GetProjection()}\")\n"
   ]
  },
  {
   "cell_type": "code",
   "execution_count": 6,
   "metadata": {},
   "outputs": [
    {
     "name": "stdout",
     "output_type": "stream",
     "text": [
      "Band Type=Int16\n",
      "Min=2535.000, Max=8275.000\n"
     ]
    }
   ],
   "source": [
    "band = dataset.GetRasterBand(1)\n",
    "print(\"Band Type={}\".format(gdal.GetDataTypeName(band.DataType)))\n",
    "\n",
    "min = band.GetMinimum()\n",
    "max = band.GetMaximum()\n",
    "if not min or not max:\n",
    "    (min, max) = band.ComputeRasterMinMax(True)\n",
    "print(\"Min={:.3f}, Max={:.3f}\".format(min, max))\n",
    "\n",
    "if band.GetOverviewCount() > 0:\n",
    "    print(\"Band has {} overviews\".format(band.GetOverviewCount()))\n",
    "\n",
    "if band.GetRasterColorTable():\n",
    "    print(\"Band has a color table with {} entries\".format(\n",
    "        band.GetRasterColorTable().GetCount()))\n"
   ]
  },
  {
   "cell_type": "code",
   "execution_count": 9,
   "metadata": {},
   "outputs": [],
   "source": [
    "scanline = band.ReadRaster(xoff=0, yoff=0,\n",
    "                           xsize=band.XSize, ysize=1,\n",
    "                           buf_xsize=band.XSize, buf_ysize=1,\n",
    "                           buf_type=gdal.GDT_Float32)"
   ]
  }
 ],
 "metadata": {
  "interpreter": {
   "hash": "fc24b5139b51d872ebefa4fe343fc403ef996da92b50b4560ed529f284a5cd0e"
  },
  "kernelspec": {
   "display_name": "Python 3.9.13 ('base')",
   "language": "python",
   "name": "python3"
  },
  "language_info": {
   "codemirror_mode": {
    "name": "ipython",
    "version": 3
   },
   "file_extension": ".py",
   "mimetype": "text/x-python",
   "name": "python",
   "nbconvert_exporter": "python",
   "pygments_lexer": "ipython3",
   "version": "3.9.13"
  },
  "orig_nbformat": 4
 },
 "nbformat": 4,
 "nbformat_minor": 2
}
